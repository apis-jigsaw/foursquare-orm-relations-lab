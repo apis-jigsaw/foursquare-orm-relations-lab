{
 "cells": [
  {
   "cell_type": "markdown",
   "metadata": {},
   "source": [
    "# ETL with Databases"
   ]
  },
  {
   "cell_type": "markdown",
   "metadata": {},
   "source": [
    "### Introduction"
   ]
  },
  {
   "cell_type": "markdown",
   "metadata": {},
   "source": [
    "In this lesson, we'll update our foursquare lab to load data into the database.  Doing so will involve both adding new methods to make requests to the api, as well as connecting our API to a database."
   ]
  },
  {
   "cell_type": "markdown",
   "metadata": {},
   "source": [
    "### Reviewing our code"
   ]
  },
  {
   "cell_type": "markdown",
   "metadata": {},
   "source": [
    "Before we get started, it's probably a good idea to review our existing codebase.  Let's even add a new  function called `request_venue` that takes a venue id, and returns that venue.  Use [the documentation](https://developer.foursquare.com/docs/api-reference/venues/details/) on venue details to see how to make the request."
   ]
  },
  {
   "cell_type": "markdown",
   "metadata": {},
   "source": [
    "Run the `test_client` tests to ensure this works."
   ]
  },
  {
   "cell_type": "markdown",
   "metadata": {},
   "source": [
    "Now we can see that by using the venue details endpoint, there is a good amount of information we are able to store.  Let's create tables to store the following information."
   ]
  },
  {
   "cell_type": "markdown",
   "metadata": {},
   "source": [
    "### Creating Tables"
   ]
  },
  {
   "cell_type": "markdown",
   "metadata": {},
   "source": [
    "Now for this application, we have a venue, which has one venue location, and a venue has many venue_categories, and a venue category has many venues.  This means that wer need the tables with the following attributes."
   ]
  },
  {
   "cell_type": "markdown",
   "metadata": {},
   "source": [
    "* `venue` \n",
    "    * Columns: `foursquare_id`, `name`, `price`, `rating`, `likes`, `menu_url`\n",
    "    * Restrictions/Specifications: Index on price, `foursquare_id` unique\n",
    "    \n",
    "* `venue_location` \n",
    "    * longitude, latitude, address, postal_code, city, state\n",
    "    * Index on city, state, postal code\n",
    "    * And a foreign key! (figure out of what)\n",
    "    \n",
    "* `category` table\n",
    "    * Columns: `name`, \n",
    "    * Retrictions: name unique\n",
    "    \n",
    "    \n",
    "* `venue_category`\n",
    "    * Only foreign keys (for you to figure out)"
   ]
  },
  {
   "cell_type": "markdown",
   "metadata": {},
   "source": [
    "### Creating Venues"
   ]
  },
  {
   "cell_type": "markdown",
   "metadata": {},
   "source": [
    "Ok, after we have created our tables, it's now time for us to call the API and populate our database.  This is what we'll need to do.  For each venue, we must do the following:\n",
    "\n",
    "* create a venue record\n",
    "* create a venue_location record\n",
    "* populate category and venue_categories"
   ]
  },
  {
   "cell_type": "markdown",
   "metadata": {},
   "source": [
    "Now, let's think through what's involved with these tasks.  The first is the step to create a new venue.  To do so, we should move through the following steps.\n",
    "\n",
    "A. Create a new venue\n",
    "\n",
    "1. `select_venue_attributes` from the api\n",
    "2. `create_venue()`: adds venue to database\n",
    "3. `find_or_create_venue()`: adds venue to the database if it does not already exist"
   ]
  },
  {
   "cell_type": "markdown",
   "metadata": {},
   "source": [
    "B. Create a `venue_location`\n",
    "\n",
    "Also for each venue, we should store the location, and the correct foreign key.  This would involve:\n",
    "\n",
    "* find venue by foursquare_id\n",
    "* add new `venue_location`, with `venue_id`"
   ]
  },
  {
   "cell_type": "markdown",
   "metadata": {},
   "source": [
    "> This way when we store a `venue_location`, we have the location, and the related `venue_id`."
   ]
  },
  {
   "cell_type": "markdown",
   "metadata": {},
   "source": [
    "C. Category information\n",
    "\n",
    "Then for each venue, we also need to add in the category information.  This means we first need to\n",
    "\n",
    "* find or create a new row in the category table for each category.  \n",
    "* And we need then need to create the venue_category row.  "
   ]
  },
  {
   "cell_type": "markdown",
   "metadata": {},
   "source": []
  },
  {
   "cell_type": "markdown",
   "metadata": {},
   "source": [
    "### Building our Code"
   ]
  },
  {
   "cell_type": "markdown",
   "metadata": {},
   "source": [
    "* `find_or_create_category`\n",
    "* `create_venue_category`"
   ]
  },
  {
   "cell_type": "markdown",
   "metadata": {},
   "source": [
    "Finally, write a function called `create_venues`, that will take a list of foursquare venue_ids, and populate the database with the above functions."
   ]
  },
  {
   "cell_type": "markdown",
   "metadata": {},
   "source": [
    "### Resources\n",
    "\n",
    "[Pytest](https://xvrdm.github.io/2017/07/03/testing-flask-sqlalchemy-database-with-pytest/)"
   ]
  },
  {
   "cell_type": "markdown",
   "metadata": {},
   "source": [
    "[Pytest fixtures](https://docs.pytest.org/en/stable/fixture.html)"
   ]
  }
 ],
 "metadata": {
  "kernelspec": {
   "display_name": "Python 3",
   "language": "python",
   "name": "python3"
  },
  "language_info": {
   "codemirror_mode": {
    "name": "ipython",
    "version": 3
   },
   "file_extension": ".py",
   "mimetype": "text/x-python",
   "name": "python",
   "nbconvert_exporter": "python",
   "pygments_lexer": "ipython3",
   "version": "3.8.3"
  }
 },
 "nbformat": 4,
 "nbformat_minor": 4
}
